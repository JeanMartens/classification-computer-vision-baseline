{
 "cells": [
  {
   "cell_type": "code",
   "execution_count": 1,
   "id": "ca90a563-a3d2-44d6-9457-bdd2d0d4a9e0",
   "metadata": {},
   "outputs": [],
   "source": [
    "import pandas as pd\n",
    "import numpy as np\n",
    "import matplotlib.pyplot as plt"
   ]
  },
  {
   "cell_type": "code",
   "execution_count": null,
   "id": "8d0ef633-f4b0-4dbd-8fa4-826a61cd28bb",
   "metadata": {},
   "outputs": [],
   "source": [
    "metadata = pd.read('data/metadatas/metadata.csv')"
   ]
  },
  {
   "cell_type": "code",
   "execution_count": 1,
   "id": "8db9cc65-73a5-4bf5-8d8b-26abe6e1697f",
   "metadata": {},
   "outputs": [
    {
     "ename": "NameError",
     "evalue": "name 'metadata' is not defined",
     "output_type": "error",
     "traceback": [
      "\u001b[0;31m---------------------------------------------------------------------------\u001b[0m",
      "\u001b[0;31mNameError\u001b[0m                                 Traceback (most recent call last)",
      "Cell \u001b[0;32mIn[1], line 1\u001b[0m\n\u001b[0;32m----> 1\u001b[0m \u001b[43mmetadata\u001b[49m\u001b[38;5;241m.\u001b[39mhead(\u001b[38;5;241m2\u001b[39m)\n",
      "\u001b[0;31mNameError\u001b[0m: name 'metadata' is not defined"
     ]
    }
   ],
   "source": [
    "metadata.head(2)"
   ]
  },
  {
   "cell_type": "code",
   "execution_count": 21,
   "id": "314bb4e3-d95c-4c95-a538-98c10b5ee757",
   "metadata": {},
   "outputs": [],
   "source": [
    "new_metadata = metadata.copy()"
   ]
  },
  {
   "cell_type": "code",
   "execution_count": 22,
   "id": "473bc6df-dd4a-4053-9c9b-828c89b3a88a",
   "metadata": {},
   "outputs": [],
   "source": [
    "new_metadata['input_path'] = new_metadata['id'].apply(lambda x: 'data/input_folder/' + str(x) + '.npy')"
   ]
  },
  {
   "cell_type": "code",
   "execution_count": 27,
   "id": "f7a94350-ab71-470d-b3dc-4160133b6b47",
   "metadata": {},
   "outputs": [],
   "source": [
    "new_metadata['label_path'] = new_metadata['id'].apply(lambda x: 'data/input_folder/' + str(x) + '.npy')"
   ]
  },
  {
   "cell_type": "code",
   "execution_count": 30,
   "id": "f140d380-402d-4fd5-8b1a-8fd79f16092a",
   "metadata": {},
   "outputs": [
    {
     "data": {
      "text/html": [
       "<div>\n",
       "<style scoped>\n",
       "    .dataframe tbody tr th:only-of-type {\n",
       "        vertical-align: middle;\n",
       "    }\n",
       "\n",
       "    .dataframe tbody tr th {\n",
       "        vertical-align: top;\n",
       "    }\n",
       "\n",
       "    .dataframe thead th {\n",
       "        text-align: right;\n",
       "    }\n",
       "</style>\n",
       "<table border=\"1\" class=\"dataframe\">\n",
       "  <thead>\n",
       "    <tr style=\"text-align: right;\">\n",
       "      <th></th>\n",
       "      <th>record_id</th>\n",
       "      <th>weight</th>\n",
       "      <th>orig_train</th>\n",
       "      <th>image_path</th>\n",
       "      <th>label_path</th>\n",
       "      <th>laxist_label_path</th>\n",
       "    </tr>\n",
       "  </thead>\n",
       "  <tbody>\n",
       "    <tr>\n",
       "      <th>0</th>\n",
       "      <td>3687499407028137410</td>\n",
       "      <td>1</td>\n",
       "      <td>0</td>\n",
       "      <td>data/ASHRGB58/validation/3687499407028137410/a...</td>\n",
       "      <td>data/targets/validation/3687499407028137410/hu...</td>\n",
       "      <td>data/targets/validation/3687499407028137410/hu...</td>\n",
       "    </tr>\n",
       "    <tr>\n",
       "      <th>1</th>\n",
       "      <td>6558861185867890815</td>\n",
       "      <td>2</td>\n",
       "      <td>0</td>\n",
       "      <td>data/ASHRGB58/validation/6558861185867890815/a...</td>\n",
       "      <td>data/targets/validation/6558861185867890815/hu...</td>\n",
       "      <td>data/targets/validation/6558861185867890815/hu...</td>\n",
       "    </tr>\n",
       "    <tr>\n",
       "      <th>2</th>\n",
       "      <td>7355354609194882312</td>\n",
       "      <td>1</td>\n",
       "      <td>0</td>\n",
       "      <td>data/ASHRGB58/validation/7355354609194882312/a...</td>\n",
       "      <td>data/targets/validation/7355354609194882312/hu...</td>\n",
       "      <td>data/targets/validation/7355354609194882312/hu...</td>\n",
       "    </tr>\n",
       "    <tr>\n",
       "      <th>3</th>\n",
       "      <td>7547747455642200110</td>\n",
       "      <td>1</td>\n",
       "      <td>0</td>\n",
       "      <td>data/ASHRGB58/validation/7547747455642200110/a...</td>\n",
       "      <td>data/targets/validation/7547747455642200110/hu...</td>\n",
       "      <td>data/targets/validation/7547747455642200110/hu...</td>\n",
       "    </tr>\n",
       "    <tr>\n",
       "      <th>4</th>\n",
       "      <td>5456834089979970017</td>\n",
       "      <td>2</td>\n",
       "      <td>0</td>\n",
       "      <td>data/ASHRGB58/validation/5456834089979970017/a...</td>\n",
       "      <td>data/targets/validation/5456834089979970017/hu...</td>\n",
       "      <td>data/targets/validation/5456834089979970017/hu...</td>\n",
       "    </tr>\n",
       "  </tbody>\n",
       "</table>\n",
       "</div>"
      ],
      "text/plain": [
       "             record_id  weight  orig_train   \n",
       "0  3687499407028137410       1           0  \\\n",
       "1  6558861185867890815       2           0   \n",
       "2  7355354609194882312       1           0   \n",
       "3  7547747455642200110       1           0   \n",
       "4  5456834089979970017       2           0   \n",
       "\n",
       "                                          image_path   \n",
       "0  data/ASHRGB58/validation/3687499407028137410/a...  \\\n",
       "1  data/ASHRGB58/validation/6558861185867890815/a...   \n",
       "2  data/ASHRGB58/validation/7355354609194882312/a...   \n",
       "3  data/ASHRGB58/validation/7547747455642200110/a...   \n",
       "4  data/ASHRGB58/validation/5456834089979970017/a...   \n",
       "\n",
       "                                          label_path   \n",
       "0  data/targets/validation/3687499407028137410/hu...  \\\n",
       "1  data/targets/validation/6558861185867890815/hu...   \n",
       "2  data/targets/validation/7355354609194882312/hu...   \n",
       "3  data/targets/validation/7547747455642200110/hu...   \n",
       "4  data/targets/validation/5456834089979970017/hu...   \n",
       "\n",
       "                                   laxist_label_path  \n",
       "0  data/targets/validation/3687499407028137410/hu...  \n",
       "1  data/targets/validation/6558861185867890815/hu...  \n",
       "2  data/targets/validation/7355354609194882312/hu...  \n",
       "3  data/targets/validation/7547747455642200110/hu...  \n",
       "4  data/targets/validation/5456834089979970017/hu...  "
      ]
     },
     "execution_count": 30,
     "metadata": {},
     "output_type": "execute_result"
    }
   ],
   "source": [
    "new_metadata.head(2)"
   ]
  },
  {
   "cell_type": "code",
   "execution_count": 29,
   "id": "3f3f9515-a141-4098-810e-5d23e7260d7f",
   "metadata": {},
   "outputs": [],
   "source": [
    "new_metadata.to_csv('../data/metadatas/correct_format_metadata.csv',index = False)"
   ]
  }
 ],
 "metadata": {
  "kernelspec": {
   "display_name": "Python 3 (ipykernel)",
   "language": "python",
   "name": "python3"
  },
  "language_info": {
   "codemirror_mode": {
    "name": "ipython",
    "version": 3
   },
   "file_extension": ".py",
   "mimetype": "text/x-python",
   "name": "python",
   "nbconvert_exporter": "python",
   "pygments_lexer": "ipython3",
   "version": "3.10.11"
  }
 },
 "nbformat": 4,
 "nbformat_minor": 5
}
